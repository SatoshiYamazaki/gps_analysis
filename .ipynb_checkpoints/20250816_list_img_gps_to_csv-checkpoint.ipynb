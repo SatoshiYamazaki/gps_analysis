{
 "cells": [
  {
   "cell_type": "markdown",
   "id": "65e0617a-ee65-4819-abb6-1d30b92c03d6",
   "metadata": {},
   "source": [
    "# GPS情報抽出"
   ]
  },
  {
   "cell_type": "code",
   "execution_count": 3,
   "id": "f46ea93e-7d21-4833-b211-23950fba2595",
   "metadata": {},
   "outputs": [],
   "source": [
    "import exifread\n",
    "\n",
    "def read_exif_from_image(image_path):\n",
    "    \"\"\"画像ファイルからEXIFデータを読み込む\"\"\"\n",
    "    try:\n",
    "        with open(image_path, \"rb\") as f:\n",
    "            exif_data = exifread.process_file(f)\n",
    "        return exif_data\n",
    "    except FileNotFoundError:\n",
    "        print(f\"ファイルが見つかりません: {image_path}\")\n",
    "        return None\n",
    "    except IOError:\n",
    "        print(f\"ファイルの読み込みに失敗しました: {image_path}\")\n",
    "        return None\n",
    "\n",
    "        \n",
    "def dms_to_decimal(dms):\n",
    "    \"\"\"度分秒（DMS）リストから10進数の座標に変換する関数\"\"\"\n",
    "    degrees, minutes, seconds = dms\n",
    "    return degrees + (minutes / 60) + (seconds / 3600)\n",
    "\n",
    "\n",
    "def get_coordinates(exif_data):\n",
    "    \"\"\"EXIFタグから緯度と経度を抽出してタプルで返す\"\"\"\n",
    "    try:\n",
    "        pre_latitude = eval(exif_data[\"GPS GPSLatitude\"].printable)\n",
    "        pre_longitude = eval(exif_data[\"GPS GPSLongitude\"].printable)\n",
    "        latitude = dms_to_decimal(pre_latitude)\n",
    "        longitude = dms_to_decimal(pre_longitude)\n",
    "        return (latitude, longitude)\n",
    "    except KeyError:\n",
    "        print(\"必要なGPS情報が含まれていません。\")\n",
    "        return None"
   ]
  },
  {
   "cell_type": "code",
   "execution_count": 6,
   "id": "1fae5a97-58bb-4739-ae2b-0f786ebc7863",
   "metadata": {},
   "outputs": [],
   "source": [
    "image_path = \"/Users/yamapan.121sy/workspace/gps_data/2025-08-15 10.54.32.HEIC\"\n",
    "\n",
    "exif_data = read_exif_from_image(image_path)"
   ]
  },
  {
   "cell_type": "code",
   "execution_count": 16,
   "id": "79b9a8f7-44d8-4428-b733-aeda6f3d64ed",
   "metadata": {},
   "outputs": [],
   "source": [
    "gps_tag_list = [\n",
    "    'GPS GPSLatitude',\n",
    "    'GPS GPSLongitude',\n",
    "    'GPS GPSAltitude',\n",
    "#    'GPS GPSTimeStamp',\n",
    "    'GPS GPSSpeed',\n",
    "    'GPS GPSImgDirection',\n",
    "    'GPS GPSDestBearing',\n",
    "]\n",
    "gps_tag_ref_list = [\n",
    "    'GPS GPSLatitudeRef',\n",
    "    'GPS GPSLongitudeRef',\n",
    "    'GPS GPSAltitudeRef',\n",
    "    'GPS GPSSpeedRef',\n",
    "    'GPS GPSImgDirectionRef',\n",
    "    'GPS GPSDestBearingRef',\n",
    "    'GPS GPSDate'\n",
    "]\n",
    "def extract_gps_info(exif_data):\n",
    "    gps_tag_dict = {tag[4:]: eval(exif_data[tag].printable) for tag in gps_tag_list}\n",
    "    gps_tag_dict = gps_tag_dict | {tag[4:]: exif_data[tag].printable for tag in gps_tag_ref_list}\n",
    "    gps_tag_dict[\"GPSLatitude\"] = dms_to_decimal(gps_tag_dict[\"GPSLatitude\"])\n",
    "    gps_tag_dict[\"GPSLongitude\"] = dms_to_decimal(gps_tag_dict[\"GPSLongitude\"])\n",
    "    return gps_tag_dict"
   ]
  },
  {
   "cell_type": "code",
   "execution_count": 17,
   "id": "868af5a4-f619-426c-af74-2996d27597b5",
   "metadata": {},
   "outputs": [
    {
     "data": {
      "text/plain": [
       "{'GPSLatitude': 35.60807777777778,\n",
       " 'GPSLongitude': 139.6889638888889,\n",
       " 'GPSAltitude': 38.41872027669693,\n",
       " 'GPSSpeed': 3.640000104907301,\n",
       " 'GPSImgDirection': 88.66357421875,\n",
       " 'GPSDestBearing': 88.66357421875,\n",
       " 'GPSLatitudeRef': 'N',\n",
       " 'GPSLongitudeRef': 'E',\n",
       " 'GPSAltitudeRef': '0',\n",
       " 'GPSSpeedRef': 'K',\n",
       " 'GPSImgDirectionRef': 'T',\n",
       " 'GPSDestBearingRef': 'T',\n",
       " 'GPSDate': '2025:08:15'}"
      ]
     },
     "execution_count": 17,
     "metadata": {},
     "output_type": "execute_result"
    }
   ],
   "source": [
    "extract_gps_info(exif_data)"
   ]
  },
  {
   "cell_type": "markdown",
   "id": "6716cbd2-312e-4fdf-89ec-4cc8a3f5f5a5",
   "metadata": {},
   "source": [
    "## List images"
   ]
  },
  {
   "cell_type": "code",
   "execution_count": 31,
   "id": "64b49e93-405b-4b80-b250-6a07aed71b9a",
   "metadata": {},
   "outputs": [],
   "source": [
    "from glob import glob\n",
    "import pandas as pd\n",
    "import csv"
   ]
  },
  {
   "cell_type": "code",
   "execution_count": 19,
   "id": "fbc3ab97-c685-458d-8fe6-58d690da5853",
   "metadata": {},
   "outputs": [],
   "source": [
    "img_list = glob(\"/Users/yamapan.121sy/workspace/gps_data/images_yamazaki/*.jpg\")"
   ]
  },
  {
   "cell_type": "code",
   "execution_count": 20,
   "id": "15488352-acf5-4fde-9ecc-520fad6a5c21",
   "metadata": {},
   "outputs": [
    {
     "data": {
      "text/plain": [
       "898"
      ]
     },
     "execution_count": 20,
     "metadata": {},
     "output_type": "execute_result"
    }
   ],
   "source": [
    "len(img_list)"
   ]
  },
  {
   "cell_type": "code",
   "execution_count": 22,
   "id": "13b6696e-7e8b-46aa-9c82-62792eec7240",
   "metadata": {},
   "outputs": [
    {
     "data": {
      "text/plain": [
       "['GPSLatitude',\n",
       " 'GPSLongitude',\n",
       " 'GPSAltitude',\n",
       " 'GPSSpeed',\n",
       " 'GPSImgDirection',\n",
       " 'GPSDestBearing',\n",
       " 'GPSLatitudeRef',\n",
       " 'GPSLongitudeRef',\n",
       " 'GPSAltitudeRef',\n",
       " 'GPSSpeedRef',\n",
       " 'GPSImgDirectionRef',\n",
       " 'GPSDestBearingRef',\n",
       " 'GPSDate']"
      ]
     },
     "execution_count": 22,
     "metadata": {},
     "output_type": "execute_result"
    }
   ],
   "source": [
    "img_path = img_list[10]\n",
    "exif_data = read_exif_from_image(img_path)\n",
    "gps_info = extract_gps_info(exif_data)\n",
    "list(gps_info.keys())"
   ]
  },
  {
   "cell_type": "code",
   "execution_count": 27,
   "id": "755ada85-6f99-472d-a490-3f3eefac97b5",
   "metadata": {},
   "outputs": [],
   "source": [
    "header = [\n",
    "    'GPSLatitude',\n",
    "    'GPSLongitude',\n",
    "    'GPSAltitude',\n",
    "    'GPSSpeed',\n",
    "    'GPSImgDirection',\n",
    "    'GPSDestBearing',\n",
    "    'GPSLatitudeRef',\n",
    "    'GPSLongitudeRef',\n",
    "    'GPSAltitudeRef',\n",
    "    'GPSSpeedRef',\n",
    "    'GPSImgDirectionRef',\n",
    "    'GPSDestBearingRef',\n",
    "    'GPSDate'\n",
    "]"
   ]
  },
  {
   "cell_type": "code",
   "execution_count": 36,
   "id": "055594b5-f15f-4277-864a-d3f89d31532f",
   "metadata": {},
   "outputs": [],
   "source": [
    "csv_path = \"20250816_yamazaki_test.csv\"\n",
    "with open(csv_path, \"w\", newline=\"\") as f:\n",
    "    w = csv.writer(f, delimiter=\",\")\n",
    "    w.writerow([\"image_path\"] + header)\n",
    "    # write image gps data\n",
    "    for img_path in img_list:\n",
    "        exif_data = read_exif_from_image(img_path)\n",
    "        gps_info = extract_gps_info(exif_data)\n",
    "        w.writerow([img_path] + [str(gps_info[i]) for i in header])"
   ]
  },
  {
   "cell_type": "code",
   "execution_count": null,
   "id": "52be4761-1f97-4d0a-9f1e-1f9c38b55b02",
   "metadata": {},
   "outputs": [],
   "source": []
  }
 ],
 "metadata": {
  "kernelspec": {
   "display_name": "Python 3 (ipykernel)",
   "language": "python",
   "name": "python3"
  },
  "language_info": {
   "codemirror_mode": {
    "name": "ipython",
    "version": 3
   },
   "file_extension": ".py",
   "mimetype": "text/x-python",
   "name": "python",
   "nbconvert_exporter": "python",
   "pygments_lexer": "ipython3",
   "version": "3.11.13"
  }
 },
 "nbformat": 4,
 "nbformat_minor": 5
}
